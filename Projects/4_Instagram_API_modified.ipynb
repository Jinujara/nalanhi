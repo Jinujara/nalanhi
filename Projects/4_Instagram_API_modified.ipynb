{
 "cells": [
  {
   "cell_type": "markdown",
   "metadata": {},
   "source": [
    "# Instagram Graph API call"
   ]
  },
  {
   "cell_type": "markdown",
   "metadata": {},
   "source": [
    "## 1. Get Credential (w/ dotenv)\n",
    "\n",
    "To protect credential info, you have to make `.env` file  \n",
    "Here's some examples  \n",
    "\n",
    "1. INSTAGRAM_ACCESS_TOKEN\n",
    "2. INSTAGRAM_BUSINESS_ACCOUNT\n",
    "3. FB_APP_SECRET_CODE\n",
    "4. FB_CLIENT_ID"
   ]
  },
  {
   "cell_type": "code",
   "execution_count": 2,
   "metadata": {},
   "outputs": [],
   "source": [
    "import requests\n",
    "import json\n",
    "import os\n",
    "from pprint import pprint as pp\n",
    "from dotenv import load_dotenv\n",
    "\n",
    "# load .env\n",
    "load_dotenv()\n",
    "IG_ACCESS_TOKEN=os.environ.get(\"IG_ACCESS_TOKEN\")\n",
    "# FB_APP_SECRET_CODE=os.environ.get('FB_APP_SECRET_CODE')\n",
    "IG_BUSINESS_ID=os.environ.get('IG_BUSINESS_ID')\n",
    "IG_USER_NAME=os.environ.get('IG_USER_NAME')\n",
    "\n",
    "def get_creds():\n",
    "    \"\"\"\n",
    "    {'access_token': '',\n",
    "    'graph_domain': 'https://graph.facebook.com/',\n",
    "    'graph_version': 'v20.0',\n",
    "    'instagram_account_id': '',\n",
    "    'ig_username': '',\n",
    "    'endpoint_base': 'https://graph.facebook.com/v20.0/'}\n",
    "\n",
    "    \"\"\"\n",
    "    creds = dict() \n",
    "    creds['access_token'] = IG_ACCESS_TOKEN   # access token for use with all api calls\n",
    "    # creds['client_secret'] = FB_APP_SECRET_CODE  # client secret from facebook app\n",
    "    creds['graph_domain'] = 'https://graph.facebook.com/' # base domain for api calls\n",
    "    creds['graph_version'] = 'v20.0' # version of api we are hitting\n",
    "    creds['instagram_account_id'] = IG_BUSINESS_ID # user business account id\n",
    "    creds['ig_username'] = IG_USER_NAME\n",
    "    # with domain and version\n",
    "    creds['endpoint_base'] = creds['graph_domain'] + creds['graph_version'] + '/' # base endpoint\n",
    "    \n",
    "    return creds"
   ]
  },
  {
   "cell_type": "markdown",
   "metadata": {},
   "source": [
    "## 2. Create Media Object Response & Publish Media"
   ]
  },
  {
   "cell_type": "markdown",
   "metadata": {},
   "source": [
    "### (Optional) Create Carousel post\n",
    "\n",
    "Steps required for making a carousel post are.  \n",
    "1. Upload every images or video you want to make a carousel of one by one and store the container_id in a list.  \n",
    "2. Make another container that contains the container_id list.  \n",
    "3. Publish the container.  "
   ]
  },
  {
   "cell_type": "code",
   "execution_count": 14,
   "metadata": {},
   "outputs": [],
   "source": [
    "import requests\n",
    "\n",
    "def create_media(params, include_caption=True, include_children=False):\n",
    "    \"\"\"Create media container object\n",
    "\n",
    "    API Endpoint:\n",
    "    - For image\n",
    "        https://graph.facebook.com/v20.0/{ig-user-id}/media?image_url={image-url}&caption={caption}&access_token={access_token}\n",
    "    - For video\n",
    "        https://graph.facebook.com/v20.0/{ig-user-id}/media?media_type=VIDEO&video_url={video-url}&caption={caption}&access_token={access_token}\n",
    "    - For Carousel\n",
    "        https://graph.facebook.com/v20.0/{ig-user-id}/media?media_type=CAROUSEL&children={children}&caption={caption}&access_token={access_token}\n",
    "\n",
    "    Returns:\n",
    "        json object: {id : media_container_object_id}\n",
    "    \"\"\"\n",
    "\n",
    "    url = params['endpoint_base'] + params['instagram_account_id'] + '/media'\n",
    "    \n",
    "    endpointParams = {\n",
    "        'access_token': params['access_token']\n",
    "    }\n",
    "\n",
    "    ##### Media Type : IMAGE, VIDEO, CAROUSEL #####\n",
    "    if params['media_type'] == 'IMAGE':\n",
    "        endpointParams['image_url'] = params['media_url']\n",
    "    \n",
    "    elif params['media_type'] == 'VIDEO':\n",
    "        endpointParams['video_url'] = params['media_url']\n",
    "        endpointParams['media_type'] = params['media_type']\n",
    "    \n",
    "    # media_type == 'CAROUSEL'\n",
    "    else:\n",
    "        endpointParams['media_type'] = params['media_type']\n",
    "\n",
    "    \n",
    "    \n",
    "    ##### Number of Media to Post : Single, Multi(=Carousel) #####\n",
    "    \n",
    "    # for single media post\n",
    "    if include_caption:\n",
    "        endpointParams['caption'] = params['caption']\n",
    "        \n",
    "    # for carousel.\n",
    "    if include_children:\n",
    "        endpointParams['children'] = params['children']\n",
    "        response = requests.post(url, json=endpointParams)\n",
    "        return response.json()\n",
    "\n",
    "    response = requests.post(url, data=endpointParams)\n",
    "    return response.json()\n",
    "\n",
    "def create_single_media(params):\n",
    "    \"\"\"Create `single media` container object\"\"\"\n",
    "    return create_media(params, include_caption=True)\n",
    "\n",
    "def create_multi_media(params):\n",
    "    \"\"\"Create `multi media` container object\"\"\"\n",
    "    return create_media(params, include_caption=False)\n",
    "\n",
    "def create_slide_media(params):\n",
    "    \"\"\"Create `slide media` container object\"\"\"\n",
    "    return create_media(params, include_caption=True, include_children=True)\n",
    "\n",
    "def publish_media(media_object_id, params):\n",
    "    \"\"\" Publish `media container` object\n",
    "    \n",
    "    API Endpoint:\n",
    "        https://graph.facebook.com/\n",
    "        v20.0/{ig-user-id}/media_publish?creation_id={creation-id}&access_token={access_token}\n",
    "\n",
    "    Returns:\n",
    "        json object: {id: media_id}\n",
    "    \"\"\"\n",
    "\n",
    "    url = params['endpoint_base'] + params['instagram_account_id'] + '/media_publish'\n",
    "\n",
    "    endpointParams = dict()\n",
    "    endpointParams['creation_id'] = media_object_id\n",
    "    endpointParams['access_token'] = params['access_token']\n",
    "\n",
    "    response = requests.post(url, data=endpointParams)\n",
    "    \n",
    "    print(\"\\n---- MEDIA OBJECT PUBLISHED ---- \\n\")\n",
    "    print(\"\\tID:\") # label\n",
    "    print(\"\\t\" + response.json()['id']) # id of the object\n",
    "\n",
    "    return response.json()\n"
   ]
  },
  {
   "cell_type": "markdown",
   "metadata": {},
   "source": [
    "## 3. Post Comment & Reply for comment\n",
    "\n",
    "- Use to write Q_Comment & A_reply"
   ]
  },
  {
   "cell_type": "code",
   "execution_count": 4,
   "metadata": {},
   "outputs": [],
   "source": [
    "def post_comment(media_id, params):\n",
    "    \"\"\"Post comment to media\n",
    "    \n",
    "    API Endpoint:\n",
    "        https://graph.facebook.com/\n",
    "        v20.0/{ig_media_id}/comments?message={message}&access_token={access_token}\n",
    "\n",
    "\n",
    "    \"\"\"\n",
    "    url= params['endpoint_base'] + media_id + '/comments'\n",
    "    endpointParams= dict()\n",
    "    endpointParams['message']= params['message']\n",
    "    endpointParams['access_token']= params['access_token']\n",
    "    \n",
    "    response= requests.post(url, data= endpointParams)\n",
    "    \n",
    "    return response.json()"
   ]
  },
  {
   "cell_type": "code",
   "execution_count": null,
   "metadata": {},
   "outputs": [],
   "source": [
    "params['message']= 'welcome!'\n",
    "post_response= post_comment('18081006226491173', params)\n",
    "post_response"
   ]
  },
  {
   "cell_type": "code",
   "execution_count": 5,
   "metadata": {},
   "outputs": [],
   "source": [
    "def post_reply_to_comment(comment_id, params):\n",
    "    \"\"\" Post reply to a comment\n",
    "\n",
    "    API Endpoint:\n",
    "        https://graph.facebook.com/\n",
    "        v20.0/{ig_comment_id}/replies?message={message}&access_token={access-token}\n",
    "\n",
    "    Returns:\n",
    "        Status Code <Response>\n",
    "        - 200 : OK\n",
    "        - 400 : Not supported input form\n",
    "    \"\"\"\n",
    "    \n",
    "    url = params['endpoint_base'] + comment_id + '/replies'\n",
    "    \n",
    "    endpointParams = dict()\n",
    "    endpointParams['message'] = params['reply_message']\n",
    "    endpointParams['access_token'] = params['access_token']\n",
    "    response = requests.post(url, data=endpointParams)\n",
    "    return response"
   ]
  },
  {
   "cell_type": "code",
   "execution_count": 33,
   "metadata": {},
   "outputs": [
    {
     "data": {
      "text/plain": [
       "<Response [200]>"
      ]
     },
     "execution_count": 33,
     "metadata": {},
     "output_type": "execute_result"
    }
   ],
   "source": [
    "params['reply_message'] = \"I'll always happy to see you\"\n",
    "post_response = post_reply_to_comment(post_response['id'], params)\n",
    "post_response"
   ]
  },
  {
   "cell_type": "markdown",
   "metadata": {},
   "source": [
    "## 4. Answering to Question for the client with LLM (Reply)"
   ]
  },
  {
   "cell_type": "markdown",
   "metadata": {},
   "source": [
    "### Reply Sequence\n",
    "- 1. Get replies in comment\n",
    "- 2. Check - Is it already replied?\n",
    "  - If yes) Is the last response was created by media creator? \n",
    "- 3. Get all texts in comment (Optional - TBD)\n",
    "- 4. Create reply response (w/ LLM)\n",
    "- 5. Post reply to a comment"
   ]
  },
  {
   "cell_type": "markdown",
   "metadata": {},
   "source": [
    "### 1) Get User Media & Comments\n",
    "\n",
    "- get media id\n",
    "- get comment in media"
   ]
  },
  {
   "cell_type": "code",
   "execution_count": 6,
   "metadata": {},
   "outputs": [],
   "source": [
    "def get_media_id(params):\n",
    "    \"\"\" Get User Media id\n",
    "    \n",
    "    API Endpoint:\n",
    "        https://graph.facebook.com/\n",
    "        v20.0/{ig-user-id}?fields=media&access_token={access_token}\n",
    "\n",
    "    Returns:\n",
    "        json object:\n",
    "    \n",
    "        {'media': {'data': [{'id': 'media_id_1'},\n",
    "                            {'id': 'media_id_2'},\n",
    "                            {'id': 'media_id_3'}],\n",
    "                    'paging': {'cursors': {'before': '----',\n",
    "                                            'after': '----'}\n",
    "                                }\n",
    "                    },\n",
    "        'id': 'ig_business_id'}\n",
    "    \"\"\"\n",
    "    \n",
    "    url = params['endpoint_base'] + params['instagram_account_id'] + '?fields=media'\n",
    "    \n",
    "    endpointParams = {\n",
    "        'access_token': params['access_token']\n",
    "    }\n",
    "    response = requests.get(url, endpointParams)\n",
    "    return response.json()\n",
    "\n",
    "def get_media_comments(media_id, params):\n",
    "    \"\"\"  Get media comments\n",
    "\n",
    "    API Endpoint:\n",
    "        https://graph.facebook.com/\n",
    "        v20.0/{media_id}/comments?access_token={access_token}\n",
    "    \n",
    "    Returns:\n",
    "        json object:\n",
    "\n",
    "        {'data' : [{'timestamp': {created_time},\n",
    "                    'text': {comment_text_1},\n",
    "                    'id' : {comment_id_1}},\n",
    "\n",
    "                    {'timestamp': {created_time},\n",
    "                    'text': {comment_text_2},\n",
    "                    'id': {comment_id_2}}\n",
    "                ]\n",
    "        }\n",
    "    \"\"\"\n",
    "\n",
    "    url = params['endpoint_base'] + media_id + '/comments?'\n",
    "    endpointParams = dict()\n",
    "    endpointParams['access_token'] = params['access_token']\n",
    "\n",
    "    response = requests.get(url, endpointParams)\n",
    "    return response.json()\n"
   ]
  },
  {
   "cell_type": "code",
   "execution_count": 17,
   "metadata": {},
   "outputs": [
    {
     "name": "stdout",
     "output_type": "stream",
     "text": [
      "{'id': '17841467459376742',\n",
      " 'media': {'data': [{'id': '18045758038888861'},\n",
      "                    {'id': '18242713690268915'},\n",
      "                    {'id': '18015084977202592'},\n",
      "                    {'id': '17934155543781257'},\n",
      "                    {'id': '18081006226491173'},\n",
      "                    {'id': '17875156758081829'},\n",
      "                    {'id': '17880694839039025'},\n",
      "                    {'id': '17923930097826286'},\n",
      "                    {'id': '18141697960332903'},\n",
      "                    {'id': '18261320584219788'},\n",
      "                    {'id': '18031764533117210'},\n",
      "                    {'id': '18246322663248696'},\n",
      "                    {'id': '18070419385554044'},\n",
      "                    {'id': '18326877682176492'},\n",
      "                    {'id': '17891996034048780'},\n",
      "                    {'id': '17890594719053636'},\n",
      "                    {'id': '17855659533214875'},\n",
      "                    {'id': '18045962785887885'}],\n",
      "           'paging': {'cursors': {'after': 'QVFIUkpQWTlvNVRzTkcwLUFYWDlPcjlLTDZAyQlZA6eENybDVtQnZAoenFaeGo2VGpMcEZAzZAXI5amNGMXhpUGJadlF6OEVjTWVGcnEwa0pld3QtMXlkT2xkUTBn',\n",
      "                                  'before': 'QVFIUmppVVhHeThXNllZAbGpKSHlQREU5VnVLOFdCVFZAjRHJHT0I3OW13X00tdXcwaEtqT3hLeWlSM2dtYW9rYWRTaDVTNHZAlVGZAZAU3BnSFZARTlQzODF1RGZA3'}}}}\n"
     ]
    }
   ],
   "source": [
    "from pprint import pprint as pp\n",
    "params= get_creds()\n",
    "my_media = get_media_id(params)\n",
    "pp(my_media)"
   ]
  },
  {
   "cell_type": "code",
   "execution_count": 18,
   "metadata": {},
   "outputs": [
    {
     "name": "stdout",
     "output_type": "stream",
     "text": [
      "[{'data': [{'id': '18099769330426902',\n",
      "            'text': 'yeah!',\n",
      "            'timestamp': '2024-07-21T03:45:39+0000'},\n",
      "           {'id': '18080360953496350',\n",
      "            'text': '문제를 맞춰봅시다 ^&^',\n",
      "            'timestamp': '2024-07-19T20:21:34+0000'}]},\n",
      " {'data': [{'id': '18014943341218752',\n",
      "            'text': 'So cute',\n",
      "            'timestamp': '2024-07-20T07:22:02+0000'}]},\n",
      " {'data': []},\n",
      " {'data': []},\n",
      " {'data': []},\n",
      " {'data': []},\n",
      " {'data': []},\n",
      " {'data': [{'id': '17846962674254771',\n",
      "            'text': '맞팔해요 ^&^',\n",
      "            'timestamp': '2024-07-19T04:57:46+0000'}]},\n",
      " {'data': [{'id': '17915879570957592',\n",
      "            'text': '안녕하세요',\n",
      "            'timestamp': '2024-07-18T10:31:38+0000'}]},\n",
      " {'data': []},\n",
      " {'data': []},\n",
      " {'data': []},\n",
      " {'data': []},\n",
      " {'data': []},\n",
      " {'data': []},\n",
      " {'data': [{'id': '17874199341067145',\n",
      "            'text': '멋져요! 누구인가요?',\n",
      "            'timestamp': '2024-07-18T04:54:02+0000'}]},\n",
      " {'data': [{'id': '17912313272967135',\n",
      "            'text': '귀여운 고영희 !',\n",
      "            'timestamp': '2024-07-18T04:21:19+0000'}]},\n",
      " {'data': []}]\n"
     ]
    }
   ],
   "source": [
    "# get all media comments\n",
    "comments_data = []\n",
    "\n",
    "for data in my_media['media']['data']:\n",
    "    temp_media_id = data['id']\n",
    "    comments_data.append(get_media_comments(temp_media_id, params))\n",
    "\n",
    "pp(comments_data)"
   ]
  },
  {
   "cell_type": "code",
   "execution_count": 19,
   "metadata": {},
   "outputs": [
    {
     "name": "stdout",
     "output_type": "stream",
     "text": [
      "['18099769330426902', '18080360953496350', '18014943341218752', '17846962674254771', '17915879570957592', '17874199341067145', '17912313272967135']\n",
      "['yeah!', '문제를 맞춰봅시다 ^&^', 'So cute', '맞팔해요 ^&^', '안녕하세요', '멋져요! 누구인가요?', '귀여운 고영희 !']\n"
     ]
    }
   ],
   "source": [
    "comments_id = []\n",
    "comments= []\n",
    "\n",
    "for media_comments in comments_data:\n",
    "    for comment in media_comments['data']:\n",
    "        comments_id.append(comment['id'])\n",
    "        comments.append(comment['text'])\n",
    "    \n",
    "print(comments_id)\n",
    "print(comments)\n"
   ]
  },
  {
   "cell_type": "markdown",
   "metadata": {},
   "source": [
    "### 2) Is it already replied?\n",
    "\n",
    "- get reply in comment\n",
    "- is it from me?"
   ]
  },
  {
   "cell_type": "code",
   "execution_count": 7,
   "metadata": {},
   "outputs": [],
   "source": [
    "def get_comment_replies(comment_id, params):\n",
    "    \"\"\"Create reply for comment\n",
    "    \n",
    "    API Endpoint:\n",
    "        https://graph.facebook.com/\n",
    "        v20.0/{ig_comment_id}/replies?fields={fields}&access_token={access-token}   ######확인\n",
    "        v20.0/{ig_comment_id}/replies\n",
    "    \n",
    "    Returns:\n",
    "        json object: the replies are `stacked-shaped`(LIFO)\n",
    "        \n",
    "        {'data': [{'id': {replied_id_2},\n",
    "                'text': {replied_text_2}\n",
    "                'username': {ig_username},\n",
    "\n",
    "                {'id', {replied_id_1},\n",
    "                'text': {replied_text_1},\n",
    "                'username': {ig_username}\n",
    "                ]}\n",
    "    \"\"\"\n",
    "\n",
    "    url = params['endpoint_base'] + comment_id + '/replies'\n",
    "    endpointParams = dict()\n",
    "    endpointParams['access_token'] = params['access_token']\n",
    "    endpointParams['fields'] = 'id, text, username'\n",
    "    response = requests.get(url, endpointParams)\n",
    "    return response.json()"
   ]
  },
  {
   "cell_type": "code",
   "execution_count": 22,
   "metadata": {},
   "outputs": [],
   "source": [
    "# def is_replied(replies, params):\n",
    "#     \"\"\"Check if last response's username is creator's name\n",
    "\n",
    "#     Returns:\n",
    "#         True or False\n",
    "#     \"\"\"\n",
    "#     if len(replies['data']):\n",
    "#         return True if replies['data'][0]['username'] == params['ig_username'] else False"
   ]
  },
  {
   "cell_type": "code",
   "execution_count": 26,
   "metadata": {},
   "outputs": [
    {
     "data": {
      "text/plain": [
       "{'data': [{'id': '17869843359146531',\n",
       "   'text': '@sesac.nalanhi 메렁',\n",
       "   'username': 'sesac.nalanhi'},\n",
       "  {'id': '17860720827142900',\n",
       "   'text': '@sesac.nalanhi 쉴어효',\n",
       "   'username': 'sesac.nalanhi'},\n",
       "  {'id': '17993556578653501',\n",
       "   'text': '정답을 알아봐요! \\n\\n O~X~',\n",
       "   'username': 'sesac.nalanhi'}]}"
      ]
     },
     "execution_count": 26,
     "metadata": {},
     "output_type": "execute_result"
    }
   ],
   "source": [
    "reply_response= get_comment_replies(comments_id[1], params)\n",
    "reply_response"
   ]
  },
  {
   "cell_type": "markdown",
   "metadata": {},
   "source": [
    "### 3) If not users(False), answer the question with LLM\n",
    "\n",
    "- comment text & comment id\n",
    "- Run Model (input : comment text)\n",
    "- post reply with model_output for comment id"
   ]
  },
  {
   "cell_type": "code",
   "execution_count": 11,
   "metadata": {},
   "outputs": [],
   "source": [
    "import openai\n",
    "def create_reply_texts(comment):\n",
    "    \"\"\"\n",
    "        comment를 입력으로 받아 이에 대한 답변을 LLM 모델로 생성\n",
    "        여기서 무관한 comment시, \n",
    "        1) '모른다'라는 답변을 생성할 것인지,\n",
    "        2) 아니면 reply하지 않을 것인지,\n",
    "        3) 혹은 그냥 이모지 :) 생성할 것인지 (reply 확인용)\n",
    "    \"\"\"\n",
    "\n",
    "    client = openai.OpenAI()\n",
    "    completion = client.chat.completions.create(\n",
    "        model=\"gpt-3.5-turbo-0125\",\n",
    "        messages=[\n",
    "            {\"role\": \"user\", \"content\": comment}\n",
    "        ]\n",
    "    )\n",
    "    \n",
    "    return completion.choices[0].message.content"
   ]
  },
  {
   "cell_type": "markdown",
   "metadata": {},
   "source": [
    "## 5. Final Merge"
   ]
  },
  {
   "cell_type": "code",
   "execution_count": null,
   "metadata": {},
   "outputs": [],
   "source": [
    "# def reply_for_comment(params):\n",
    "#     ##### get_media_id #####\n",
    "#     url = params['endpoint_base'] + params['instagram_account_id'] + '?fields=media'\n",
    "    \n",
    "#     endpointParams = {\n",
    "#         'access_token': params['access_token']\n",
    "#     }\n",
    "#     response = requests.get(url, endpointParams)\n",
    "#     media_id_list= response.json()['media']['data']\n",
    "    \n",
    "    \n",
    "#     ##### get_media_comments #####\n",
    "#     for media in media_id_list:\n",
    "#         url = params['endpoint_base'] + media['id'] + '/comments?'\n",
    "#         response = requests.get(url, endpointParams)\n",
    "#         comment_list_per_media= response.json()['data']   # timestamp, text, id(comment_id)\n",
    "        \n",
    "#         ##### get_comment_replies #####\n",
    "#         for comment in comment_list_per_media:\n",
    "#             url = params['endpoint_base'] + comment['id'] + '/replies'\n",
    "#             endpointParams['fields'] = 'id, text, username'\n",
    "#             response = requests.get(url, endpointParams)\n",
    "            \n",
    "#             ##### is_replied #####\n",
    "#             reply_list_per_comment = response.json()['data']\n",
    "            \n",
    "#             # reply exist\n",
    "#             if reply_list_per_comment:   \n",
    "#                 i_replied= [bool(reply['username']==params['ig_username']) for reply in reply_list_per_comment]\n",
    "                \n",
    "#                 # All False (내가 한 reply가 없음)\n",
    "#                 if not any(i_replied):   \n",
    "#                     params['reply_message']= get_reply_texts()\n",
    "#                     post_reply_to_comment(comment['id'],params)\n",
    "            \n",
    "#             # reply no exist\n",
    "#             else:\n",
    "#                 params['reply_message']= get_reply_texts()\n",
    "#                 post_reply_to_comment(comment['id'],params)"
   ]
  },
  {
   "cell_type": "code",
   "execution_count": 8,
   "metadata": {},
   "outputs": [],
   "source": [
    "def reply_for_comment(params):\n",
    "    \"\"\"\n",
    "    1. get all comments & all reply\n",
    "    2. if I didn't reply, post reply\n",
    "\n",
    "    \"\"\"\n",
    "    ##### get_media_id #####\n",
    "    media_id_list= get_media_id(params)['media']['data']    \n",
    "    \n",
    "    ##### get_media_comments #####\n",
    "    for media in media_id_list:\n",
    "        comment_list_per_media= get_media_comments(media['id'], params)['data']\n",
    "        \n",
    "        ##### get_comment_replies #####\n",
    "        for comment in comment_list_per_media:\n",
    "            reply_list_per_comment= get_comment_replies(comment['id'], params)['data']\n",
    "            \n",
    "            ##### is_replied #####            \n",
    "            ## reply exist\n",
    "            if reply_list_per_comment:   \n",
    "                i_replied= [bool(reply['username']==params['ig_username']) for reply in reply_list_per_comment]\n",
    "                \n",
    "                # All False (내가 한 reply가 없음)\n",
    "                if not any(i_replied):   \n",
    "                    params['reply_message']= create_reply_texts(comment['text'])\n",
    "                    print(post_reply_to_comment(comment['id'],params).json())\n",
    "                    \n",
    "            \n",
    "            ## reply no exist\n",
    "            else:\n",
    "                params['reply_message']= create_reply_texts(comment['text'])\n",
    "                print(post_reply_to_comment(comment['id'],params).json())"
   ]
  },
  {
   "cell_type": "code",
   "execution_count": 10,
   "metadata": {},
   "outputs": [],
   "source": [
    "import pandas as pd\n",
    "import ast\n",
    "\n",
    "def post_media(data_path):\n",
    "    \"\"\" Run post process\n",
    "\n",
    "    Sequence\n",
    "        1. read_csv ('data.csv')\n",
    "        2. post to instagram - with using 1st record\n",
    "        3. return csv\n",
    "            - len(data) >= 1 (pop first record and return remains)\n",
    "            - len(data) == 0 (return blank data)\n",
    "    \n",
    "    Data Structure\n",
    "    {\n",
    "        'caption':  posting caption,\n",
    "        'media_info': list of tuples (media url, media type)\n",
    "        'Q_comment': question comment\n",
    "        'A_reply' : answer reply\n",
    "    }\n",
    "    \"\"\"\n",
    "\n",
    "    # 데이터 로드 (media_info 열의 데이터는 문자열에서 리스트로 형변환)\n",
    "    data= pd.read_csv(data_path, encoding='utf-8', converters={'media_info' : ast.literal_eval}) \n",
    "\n",
    "    # data의 데이터가 있으면 진행\n",
    "    if len(data):\n",
    "        \n",
    "        ##### Import Data & Upload #####\n",
    "        posting_data = data.iloc[0]\n",
    "\n",
    "        params = get_creds()\n",
    "        params['caption'] = posting_data['caption']\n",
    "\n",
    "        # single_media upload\n",
    "        if (len(posting_data['media_info']) == 1):\n",
    "            params['media_url'], params['media_type'] = posting_data['media_info'][0]\n",
    "            media_container = create_single_media(params)\n",
    "\n",
    "        # multi_media upload\n",
    "        else:\n",
    "            media_id_list = []\n",
    "\n",
    "            # media container 생성 - 최대 10개까지만 업로드 가능\n",
    "            for (media_url, media_type) in posting_data['media_info'][:10]:\n",
    "                params['media_type'] = media_type\n",
    "                params['media_url'] = media_url\n",
    "                temp_media_container = create_multi_media(params)\n",
    "                media_id_list.append(temp_media_container['id'])\n",
    "                \n",
    "            # carousel로 넘기기\n",
    "            params['media_type'] = 'CAROUSEL'\n",
    "            params['children'] = media_id_list\n",
    "            media_container = create_slide_media(params)\n",
    "        \n",
    "        # published 된 경우 object published 출력\n",
    "        post_id = publish_media(media_container['id'], params)['id'] \n",
    "        \n",
    "        \n",
    "        \n",
    "        ##### post comment (Question) #####\n",
    "        # 글 생성과 동시에 Question 생성하는 경우\n",
    "        if posting_data['Q_comment']:\n",
    "            params['message'] = posting_data['Q_comment']\n",
    "            comment_id = post_comment(post_id, params)['id']\n",
    "\n",
    "            # post reply to comment (Answer)\n",
    "            # 글 생성과 동시에 Q&A 까지 함께 진행하는 경우\n",
    "            if posting_data['A_reply']:\n",
    "                params['reply_message'] = posting_data['A_reply']\n",
    "                reply_id = post_reply_to_comment(comment_id, params)\n",
    "\n",
    "        \n",
    "        ##### Save Remaining Data #####\n",
    "        # 작업했던 데이터(첫번째 행) 제거 후, 나머지 data를 csv로 저장\n",
    "        data = data.drop(index=0).reset_index(drop=True)  # 0번 인덱스 드랍\n",
    "        data.to_csv(data_path, encoding='utf-8', index=False) # 값 저장.\n",
    "        print(f'\\tRemain records: {len(data)}')\n",
    "        return \n",
    "    \n",
    "    # data에 데이터가 없으면 바로 종료\n",
    "    else:\n",
    "        print(\"\\n---- Sorry, Check the file plz ToT ---- \\n\")\n",
    "        print(f'\\tNothing to post in csv file')\n",
    "        return\n"
   ]
  },
  {
   "cell_type": "markdown",
   "metadata": {},
   "source": [
    "## 6. Test"
   ]
  },
  {
   "cell_type": "markdown",
   "metadata": {},
   "source": [
    "### 샘플 인풋 데이터 생성 (`data.csv`)\n",
    "- data['media_url'] 형식 (url, media_type) 으로 변경"
   ]
  },
  {
   "cell_type": "code",
   "execution_count": 12,
   "metadata": {},
   "outputs": [],
   "source": [
    "import pandas as pd\n",
    "\n",
    "# Create sample data\n",
    "df = pd.DataFrame(columns=['upload_time', 'media_info', 'caption', 'Q_comment', 'A_reply'])\n",
    "info = [('https://img1.daumcdn.net/thumb/R1280x0.fjpg/?fname=http://t1.daumcdn.net/brunch/service/user/32E9/image/BA2Qyx3O2oTyEOsXe2ZtE8cRqGk.JPG', 'IMAGE'),('https://octapi.lxzin.com/interior/vImgFileSeq/202210/11/8ede80a1-1d0c-4839-bcc3-97bd4f357ecd.jpg', 'IMAGE')]\n",
    "temp_str = '\\n'*20\n",
    "\n",
    "# carousel (multi-data)\n",
    "data_multi = pd.DataFrame({\n",
    "    'upload_time': ['2024/07/13'],\n",
    "    'media_info': [info],\n",
    "    'caption' : ['multi media test'],\n",
    "    'Q_comment': ['문제를 맞춰봅시다 ^&^'],\n",
    "    'A_reply' : [f'정답을 알아봐요! {temp_str} O~X~']})\n",
    "\n",
    "# single media\n",
    "single_info = [('https://octapi.lxzin.com/interior/vImgFileSeq/202210/11/8ede80a1-1d0c-4839-bcc3-97bd4f357ecd.jpg', 'IMAGE')]\n",
    "data_single = pd.DataFrame({\n",
    "    'upload_time': ['2024/07/20'],\n",
    "    'media_info': [single_info], # (url, media_type)\n",
    "    'caption' : ['single media test'],\n",
    "    'Q_comment': ['no_comments'],\n",
    "    'A_reply' : [None]})\n",
    "\n",
    "data_df = pd.concat([data_multi, data_single], axis=0, ignore_index=True)\n",
    "data_df.to_csv('data.csv', encoding='utf-8', index=False)\n"
   ]
  },
  {
   "cell_type": "code",
   "execution_count": null,
   "metadata": {},
   "outputs": [
    {
     "data": {
      "text/plain": [
       "0    [(https://octapi.lxzin.com/interior/vImgFileSeq/202210/11/8ede80a1-1d0c-4839-bcc3-97bd4f357ecd.jpg, IMAGE), (https://octapi.lxzin.com/interior/vImgFileSeq/202210/11/8ede80a1-1d0c-4839-bcc3-97bd4f357ecd.jpg, IMAGE)]\n",
       "Name: media_info, dtype: object"
      ]
     },
     "metadata": {},
     "output_type": "display_data"
    }
   ],
   "source": [
    "pd.set_option('display.max_columns', None) ## 모든 열 출력\n",
    "pd.set_option('display.max_rows', None) ## 모든 행 출력\n",
    "pd.set_option('display.max_colwidth', None) ## 모든 내용 출력\n",
    "\n",
    "data_multi['media_info']"
   ]
  },
  {
   "cell_type": "markdown",
   "metadata": {},
   "source": [
    "### Test 시,"
   ]
  },
  {
   "cell_type": "code",
   "execution_count": 11,
   "metadata": {},
   "outputs": [
    {
     "data": {
      "text/html": [
       "<div>\n",
       "<style scoped>\n",
       "    .dataframe tbody tr th:only-of-type {\n",
       "        vertical-align: middle;\n",
       "    }\n",
       "\n",
       "    .dataframe tbody tr th {\n",
       "        vertical-align: top;\n",
       "    }\n",
       "\n",
       "    .dataframe thead th {\n",
       "        text-align: right;\n",
       "    }\n",
       "</style>\n",
       "<table border=\"1\" class=\"dataframe\">\n",
       "  <thead>\n",
       "    <tr style=\"text-align: right;\">\n",
       "      <th></th>\n",
       "      <th>upload_time</th>\n",
       "      <th>media_info</th>\n",
       "      <th>caption</th>\n",
       "      <th>Q_comment</th>\n",
       "      <th>A_reply</th>\n",
       "    </tr>\n",
       "  </thead>\n",
       "  <tbody>\n",
       "    <tr>\n",
       "      <th>0</th>\n",
       "      <td>2024/07/13</td>\n",
       "      <td>[(https://img1.daumcdn.net/thumb/R1280x0.fjpg/...</td>\n",
       "      <td>multi media test</td>\n",
       "      <td>문제를 맞춰봅시다 ^&amp;^</td>\n",
       "      <td>정답을 알아봐요! \\n\\n\\n\\n\\n\\n\\n\\n\\n\\n\\n\\n\\n\\n\\n\\n\\n\\n...</td>\n",
       "    </tr>\n",
       "    <tr>\n",
       "      <th>1</th>\n",
       "      <td>2024/07/20</td>\n",
       "      <td>[(https://octapi.lxzin.com/interior/vImgFileSe...</td>\n",
       "      <td>single media test</td>\n",
       "      <td>no_comments</td>\n",
       "      <td>NaN</td>\n",
       "    </tr>\n",
       "  </tbody>\n",
       "</table>\n",
       "</div>"
      ],
      "text/plain": [
       "  upload_time                                         media_info  \\\n",
       "0  2024/07/13  [(https://img1.daumcdn.net/thumb/R1280x0.fjpg/...   \n",
       "1  2024/07/20  [(https://octapi.lxzin.com/interior/vImgFileSe...   \n",
       "\n",
       "             caption      Q_comment  \\\n",
       "0   multi media test  문제를 맞춰봅시다 ^&^   \n",
       "1  single media test    no_comments   \n",
       "\n",
       "                                             A_reply  \n",
       "0  정답을 알아봐요! \\n\\n\\n\\n\\n\\n\\n\\n\\n\\n\\n\\n\\n\\n\\n\\n\\n\\n...  \n",
       "1                                                NaN  "
      ]
     },
     "execution_count": 11,
     "metadata": {},
     "output_type": "execute_result"
    }
   ],
   "source": [
    "# 데이터 불러오기\n",
    "# import ast\n",
    "# data = pd.read_csv('data.csv', encoding='utf-8', converters={'media_info' : ast.literal_eval}) \n",
    "# data"
   ]
  },
  {
   "cell_type": "code",
   "execution_count": 15,
   "metadata": {},
   "outputs": [
    {
     "name": "stdout",
     "output_type": "stream",
     "text": [
      "\n",
      "---- MEDIA OBJECT PUBLISHED ---- \n",
      "\n",
      "\tID:\n",
      "\t18046724899882612\n",
      "\tRemain records: 1\n"
     ]
    }
   ],
   "source": [
    "# queue.csv를 읽은 후, df상태로 넣어주면 자동 처리.\n",
    "params= get_creds()\n",
    "post_media('data.csv')"
   ]
  },
  {
   "cell_type": "code",
   "execution_count": 16,
   "metadata": {},
   "outputs": [],
   "source": [
    "reply_for_comment(params)"
   ]
  },
  {
   "cell_type": "markdown",
   "metadata": {},
   "source": [
    "# 참고문서"
   ]
  },
  {
   "cell_type": "markdown",
   "metadata": {},
   "source": [
    "\"\"\"\n",
    "\n",
    "https://developers.facebook.com/docs/instagram-platform/instagram-graph-api/content-publishing#----------            # publishing\n",
    "\n",
    "https://developers.facebook.com/docs/instagram-platform/instagram-graph-api/reference/ig-user/media_publish         # replied comment\n",
    "\n",
    "https://velog.io/@shi9476/Instagram-API-%EC%97%B0%EB%8F%99               # 참고자료 1 - long live token 자동재발급\n",
    "\n",
    "https://medium.com/@maanideeprkummiitha/a-beginners-guide-to-interacting-with-instagram-using-python-and-the-graph-api-8fe7956fcc   # create api function tutorial\n",
    "\n",
    "https://developers.facebook.com/docs/instagram-platform/instagram-graph-api/comment-moderation# 댓글에 답글 작성\n",
    "\n",
    "\n",
    "\"\"\" \n"
   ]
  }
 ],
 "metadata": {
  "kernelspec": {
   "display_name": "nalanhii",
   "language": "python",
   "name": "nalanhii"
  },
  "language_info": {
   "codemirror_mode": {
    "name": "ipython",
    "version": 3
   },
   "file_extension": ".py",
   "mimetype": "text/x-python",
   "name": "python",
   "nbconvert_exporter": "python",
   "pygments_lexer": "ipython3",
   "version": "3.10.10"
  }
 },
 "nbformat": 4,
 "nbformat_minor": 2
}
